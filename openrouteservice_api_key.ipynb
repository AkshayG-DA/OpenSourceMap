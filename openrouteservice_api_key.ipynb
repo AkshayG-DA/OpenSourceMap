{
  "nbformat": 4,
  "nbformat_minor": 0,
  "metadata": {
    "colab": {
      "name": "openrouteservice_api_key.ipynb",
      "provenance": []
    },
    "kernelspec": {
      "name": "python3",
      "display_name": "Python 3"
    },
    "language_info": {
      "name": "python"
    }
  },
  "cells": [
    {
      "cell_type": "markdown",
      "metadata": {
        "id": "5IzJuYIIc-j5"
      },
      "source": [
        "**Open Source Map with Python**\n",
        "\n",
        "\n",
        "1.   pip install openrouteservice \n",
        "2.   pip install folium\n",
        "\n",
        "**Key**: 5b3ce3597851110001cf6248e8eb4ba859db4a02a150231dbb3b2a3d\n",
        "\n"
      ]
    },
    {
      "cell_type": "code",
      "metadata": {
        "colab": {
          "base_uri": "https://localhost:8080/"
        },
        "id": "sEMhfecrpCKm",
        "outputId": "57dc254e-37f3-4a03-9cfe-1291c448debd"
      },
      "source": [
        "import openrouteservice as ors\n",
        "import folium\n",
        "\n",
        "client = ors.Client(key='5b3ce3597851110001cf6248e8eb4ba859db4a02a150231dbb3b2a3d')\n",
        "\n",
        "def nested_sum(L):\n",
        "    total = 0  \n",
        "    for i in L:\n",
        "        if isinstance(i, list):  # checks if `i` is a list\n",
        "            total += nested_sum(i)\n",
        "        else:\n",
        "            total += i\n",
        "    return total\n",
        "\n",
        "def calc_average(total,length):\n",
        "  average_calculation = total/length\n",
        "  return average_calculation\n",
        "\n",
        "def convert_standard_time(seconds):\n",
        "    min, sec = divmod(seconds, 60)\n",
        "    hour, min = divmod(min, 60)\n",
        "    return \"%d:%02d:%02d\" % (hour, min, sec) \n",
        "\n",
        "# coordinates = [[73.870703,18.519479], [72.864846,19.067725]] [E,N]\n",
        "coordinates = [[73.8567,18.5204], [72.8777,19.0760]]\n",
        "\n",
        "matrix = client.distance_matrix(\n",
        "    locations=coordinates,\n",
        "    profile='driving-hgv', #driving-car, driving-hgv, cycling-regular, cycling-road, cycling-mountain, cycling-electric, foot-walking, foot-hiking, wheelchair\n",
        "    metrics=['distance', 'duration'],\n",
        "    validate=False,\n",
        "    units='km'\n",
        ")\n",
        "duration = nested_sum(matrix['durations'])\n",
        "length = len(matrix['durations'])\n",
        "average_calculation = calc_average(duration, length)\n",
        "stand_time = convert_standard_time(average_calculation)\n",
        "print('Travel Time: ', stand_time)\n",
        "\n",
        "duration = nested_sum(matrix['distances'])\n",
        "length = len(matrix['distances'])\n",
        "average_calculation = calc_average(duration, length)\n",
        "print('Travel Distance: ', average_calculation,'Kms')\n",
        "\n"
      ],
      "execution_count": 92,
      "outputs": [
        {
          "output_type": "stream",
          "name": "stdout",
          "text": [
            "Travel Time:  2:03:37\n",
            "Travel Distance:  147.175 Kms\n"
          ]
        }
      ]
    }
  ]
}