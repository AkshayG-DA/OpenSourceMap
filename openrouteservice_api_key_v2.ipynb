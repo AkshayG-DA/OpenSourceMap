{
  "nbformat": 4,
  "nbformat_minor": 0,
  "metadata": {
    "colab": {
      "name": "openrouteservice_api_key.ipynb",
      "provenance": [],
      "authorship_tag": "ABX9TyN1eioZKIT1xA3kST71luok",
      "include_colab_link": true
    },
    "kernelspec": {
      "name": "python3",
      "display_name": "Python 3"
    },
    "language_info": {
      "name": "python"
    }
  },
  "cells": [
    {
      "cell_type": "markdown",
      "metadata": {
        "id": "view-in-github",
        "colab_type": "text"
      },
      "source": [
        "<a href=\"https://colab.research.google.com/github/AkshayG-DA/OpenSourceMap/blob/main/openrouteservice_api_key_v2.ipynb\" target=\"_parent\"><img src=\"https://colab.research.google.com/assets/colab-badge.svg\" alt=\"Open In Colab\"/></a>"
      ]
    },
    {
      "cell_type": "markdown",
      "metadata": {
        "id": "5IzJuYIIc-j5"
      },
      "source": [
        "**Open Source Map with Python**\n",
        "\n",
        "\n",
        "1.   pip install openrouteservice \n",
        "2.   pip install folium\n",
        "\n",
        "**Key**: 5b3ce3597851110001cf6248e8eb4ba859db4a02a150231dbb3b2a3d\n",
        "\n"
      ]
    },
    {
      "cell_type": "code",
      "metadata": {
        "id": "sEMhfecrpCKm"
      },
      "source": [
        "import openrouteservice as ors\n",
        "import folium\n",
        "\n",
        "client = ors.Client(key='5b3ce3597851110001cf6248e8eb4ba859db4a02a150231dbb3b2a3d')\n",
        "\n",
        "def nested_sum(L):\n",
        "    total = 0  \n",
        "    for i in L:\n",
        "        if isinstance(i, list):  # checks if `i` is a list\n",
        "            total += nested_sum(i)\n",
        "        else:\n",
        "            total += i\n",
        "    return total\n",
        "\n",
        "def calc_average(total,length):\n",
        "  average_calculation = total/length\n",
        "  return average_calculation\n",
        "\n",
        "def convert_standard_time(seconds):\n",
        "    min, sec = divmod(seconds, 60)\n",
        "    hour, min = divmod(min, 60)\n",
        "    return \"%d:%02d:%02d\" % (hour, min, sec) \n",
        "\n",
        "# coordinates = [[73.870703,18.519479], [72.864846,19.067725]] [E,N][lng,lat]\n",
        "def pass_coordinates(a):\n",
        "  #coordinates = [[73.8553,18.5196], [77.23,28.66]]\n",
        "  coordinates = a\n",
        "\n",
        "  matrix = client.distance_matrix(\n",
        "      locations=coordinates,\n",
        "      profile='driving-hgv', #driving-car, driving-hgv, cycling-regular, cycling-road, cycling-mountain, cycling-electric, foot-walking, foot-hiking, wheelchair\n",
        "      metrics=['distance', 'duration'],\n",
        "      validate=False,\n",
        "      units='km'\n",
        "  )\n",
        "  duration = nested_sum(matrix['durations'])\n",
        "  length = len(matrix['durations'])\n",
        "  average_calculation = calc_average(duration, length)\n",
        "  stand_time = convert_standard_time(average_calculation)\n",
        "  print('Travel Time: ', stand_time)\n",
        "\n",
        "  duration = nested_sum(matrix['distances'])\n",
        "  length = len(matrix['distances'])\n",
        "  average_calculation = calc_average(duration, length)\n",
        "  print('Travel Distance: ', average_calculation,'Kms')\n",
        "\n"
      ],
      "execution_count": 121,
      "outputs": []
    },
    {
      "cell_type": "code",
      "metadata": {
        "colab": {
          "base_uri": "https://localhost:8080/"
        },
        "id": "cXgT7hSOBvrf",
        "outputId": "075209b1-9206-41fc-c3a8-f779248a1f3f"
      },
      "source": [
        "import pandas\n",
        "df = pandas.read_excel('/content/Map_data.xlsx')\n",
        "df_first_1 = df.head(10)\n",
        "df_first_1.iloc[:,[0,1,2,3,4,5]]\n",
        "for index, row in df_first_1.iterrows():\n",
        "  print(row['city'],' to ',row['city.1'])\n",
        "  source_lng_e = row['lng(E)']\n",
        "  source_lat_n = row['lat(N)']\n",
        "  source_coordinate = [source_lng_e,source_lat_n]\n",
        "  # print(source_coordinate)\n",
        "\n",
        "  target_lng_e = row['lng(E).1']\n",
        "  target_lat_n = row['lat(N).1']\n",
        "  target_coordinate = [target_lng_e,target_lat_n]\n",
        "  # print(target_coordinate)\n",
        "\n",
        "  coordinates = [source_coordinate,target_coordinate]\n",
        "  pass_coordinates(coordinates)\n",
        "  print('-------------------------------------------------------------------------------')"
      ],
      "execution_count": 125,
      "outputs": [
        {
          "output_type": "stream",
          "name": "stdout",
          "text": [
            "Ä€Ä«zawl  to  Warangal\n",
            "Travel Time:  28:22:41\n",
            "Travel Distance:  2184.7200000000003 Kms\n",
            "-------------------------------------------------------------------------------\n",
            "Ä€gra  to  Vizianagaram\n",
            "Travel Time:  18:54:19\n",
            "Travel Distance:  1442.315 Kms\n",
            "-------------------------------------------------------------------------------\n",
            "Ä€sansol  to  Visakhapatnam\n",
            "Travel Time:  11:46:16\n",
            "Travel Distance:  931.02 Kms\n",
            "-------------------------------------------------------------------------------\n",
            "Agartala  to  Vadodara\n",
            "Travel Time:  32:14:27\n",
            "Travel Distance:  2482.115 Kms\n",
            "-------------------------------------------------------------------------------\n",
            "AhmadÄbÄd  to  VÄrÄnasi\n",
            "Travel Time:  17:19:12\n",
            "Travel Distance:  1372.9450000000002 Kms\n",
            "-------------------------------------------------------------------------------\n",
            "Ahmadnagar  to  Uluberiya\n",
            "Travel Time:  21:06:39\n",
            "Travel Distance:  1670.695 Kms\n",
            "-------------------------------------------------------------------------------\n",
            "Ajmer  to  UlhÄsnagar\n",
            "Travel Time:  13:25:01\n",
            "Travel Distance:  1059.92 Kms\n",
            "-------------------------------------------------------------------------------\n",
            "Akola  to  Ujjain\n",
            "Travel Time:  6:32:53\n",
            "Travel Distance:  510.295 Kms\n",
            "-------------------------------------------------------------------------------\n",
            "AlÄ«garh  to  Udaipur\n",
            "Travel Time:  9:17:19\n",
            "Travel Distance:  729.71 Kms\n",
            "-------------------------------------------------------------------------------\n",
            "AllahÄbÄd  to  Tuticorin\n",
            "Travel Time:  29:44:47\n",
            "Travel Distance:  2283.16 Kms\n",
            "-------------------------------------------------------------------------------\n"
          ]
        }
      ]
    },
    {
      "cell_type": "code",
      "metadata": {
        "colab": {
          "base_uri": "https://localhost:8080/"
        },
        "id": "3PPMgKRfGv7Y",
        "outputId": "241c01b1-51fb-4793-a777-a4cad8939c42"
      },
      "source": [
        "a = [[69.81, 23.2504], [84.8828, 22.2492]]\n",
        "pass_coordinates(a)"
      ],
      "execution_count": 122,
      "outputs": [
        {
          "output_type": "stream",
          "name": "stdout",
          "text": [
            "Travel Time:  26:42:45\n",
            "Travel Distance:  1995.17 Kms\n"
          ]
        }
      ]
    }
  ]
}